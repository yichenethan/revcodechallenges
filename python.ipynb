{
 "cells": [
  {
   "cell_type": "code",
   "execution_count": null,
   "metadata": {},
   "outputs": [
    {
     "name": "stdout",
     "output_type": "stream",
     "text": [
      "25\n",
      "50\n"
     ]
    }
   ],
   "source": [
    "def outer_function(a, b):\n",
    "    def inner_function(c, d):\n",
    "        return c + d\n",
    "    return inner_function(a, b)\n",
    "    return a\n",
    "Output = outer_function(45, 10)\n",
    "print(Output)"
   ]
  }
 ],
 "metadata": {
  "kernelspec": {
   "display_name": "Python 3.9.7 ('base')",
   "language": "python",
   "name": "python3"
  },
  "language_info": {
   "codemirror_mode": {
    "name": "ipython",
    "version": 3
   },
   "file_extension": ".py",
   "mimetype": "text/x-python",
   "name": "python",
   "nbconvert_exporter": "python",
   "pygments_lexer": "ipython3",
   "version": "3.9.7"
  },
  "orig_nbformat": 4,
  "vscode": {
   "interpreter": {
    "hash": "60015666735a0000599ba2ae15b8f747bd6817ebd70a53af7ea250f075b403ad"
   }
  }
 },
 "nbformat": 4,
 "nbformat_minor": 2
}
